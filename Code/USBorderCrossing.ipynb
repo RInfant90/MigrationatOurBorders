{
 "cells": [
  {
   "cell_type": "code",
   "execution_count": null,
   "id": "15227d27-190e-48be-99d0-75bed270b0ce",
   "metadata": {},
   "outputs": [],
   "source": []
  },
  {
   "cell_type": "code",
   "execution_count": null,
   "id": "cbb64470-bd7a-4e35-8faa-77a1fb685114",
   "metadata": {},
   "outputs": [],
   "source": []
  },
  {
   "cell_type": "code",
   "execution_count": 1,
   "id": "3e8196f2-4db6-4a83-99bd-23dbd9232a05",
   "metadata": {},
   "outputs": [],
   "source": [
    "import pandas as pd\n",
    "import numpy as  np\n",
    "from matplotlib import pyplot as plt \n",
    "import seaborn as sns\n",
    "import matplotlib.pyplot as plt"
   ]
  },
  {
   "cell_type": "markdown",
   "id": "3d7a56c4-3deb-4fa2-9470-5bd583202aa6",
   "metadata": {},
   "source": [
    " # Read & Clean Data"
   ]
  },
  {
   "cell_type": "code",
   "execution_count": 2,
   "id": "880a3e88-5b65-4fd2-84da-93587920098c",
   "metadata": {},
   "outputs": [],
   "source": [
    "natl = pd.read_excel('nationwide-encounters-fy20-fy23-mar.xlsx')"
   ]
  },
  {
   "cell_type": "code",
   "execution_count": 3,
   "id": "67c20488-4456-426f-ac3f-72fb8749ccf1",
   "metadata": {},
   "outputs": [
    {
     "data": {
      "text/html": [
       "<div>\n",
       "<style scoped>\n",
       "    .dataframe tbody tr th:only-of-type {\n",
       "        vertical-align: middle;\n",
       "    }\n",
       "\n",
       "    .dataframe tbody tr th {\n",
       "        vertical-align: top;\n",
       "    }\n",
       "\n",
       "    .dataframe thead th {\n",
       "        text-align: right;\n",
       "    }\n",
       "</style>\n",
       "<table border=\"1\" class=\"dataframe\">\n",
       "  <thead>\n",
       "    <tr style=\"text-align: right;\">\n",
       "      <th></th>\n",
       "      <th>Fiscal Year</th>\n",
       "      <th>Month Grouping</th>\n",
       "      <th>Month (abbv)</th>\n",
       "      <th>Date</th>\n",
       "      <th>Component</th>\n",
       "      <th>Land Border Region</th>\n",
       "      <th>Area of Responsibility</th>\n",
       "      <th>AOR (Abbv)</th>\n",
       "      <th>State</th>\n",
       "      <th>State_Name</th>\n",
       "      <th>Demographic</th>\n",
       "      <th>Citizenship</th>\n",
       "      <th>Title of Authority</th>\n",
       "      <th>Encounter Type</th>\n",
       "      <th>Encounter Count</th>\n",
       "    </tr>\n",
       "  </thead>\n",
       "  <tbody>\n",
       "    <tr>\n",
       "      <th>0</th>\n",
       "      <td>2020</td>\n",
       "      <td>FYTD</td>\n",
       "      <td>DEC</td>\n",
       "      <td>DEC 2020</td>\n",
       "      <td>Office of Field Operations</td>\n",
       "      <td>Northern Land Border</td>\n",
       "      <td>Boston Field Office</td>\n",
       "      <td>Boston</td>\n",
       "      <td>ME</td>\n",
       "      <td>Maine</td>\n",
       "      <td>FMUA</td>\n",
       "      <td>OTHER</td>\n",
       "      <td>Title 8</td>\n",
       "      <td>Inadmissibles</td>\n",
       "      <td>5</td>\n",
       "    </tr>\n",
       "    <tr>\n",
       "      <th>1</th>\n",
       "      <td>2020</td>\n",
       "      <td>FYTD</td>\n",
       "      <td>DEC</td>\n",
       "      <td>DEC 2020</td>\n",
       "      <td>Office of Field Operations</td>\n",
       "      <td>Northern Land Border</td>\n",
       "      <td>Boston Field Office</td>\n",
       "      <td>Boston</td>\n",
       "      <td>ME</td>\n",
       "      <td>Maine</td>\n",
       "      <td>Single Adults</td>\n",
       "      <td>CANADA</td>\n",
       "      <td>Title 8</td>\n",
       "      <td>Inadmissibles</td>\n",
       "      <td>722</td>\n",
       "    </tr>\n",
       "    <tr>\n",
       "      <th>2</th>\n",
       "      <td>2020</td>\n",
       "      <td>FYTD</td>\n",
       "      <td>DEC</td>\n",
       "      <td>DEC 2020</td>\n",
       "      <td>Office of Field Operations</td>\n",
       "      <td>Northern Land Border</td>\n",
       "      <td>Boston Field Office</td>\n",
       "      <td>Boston</td>\n",
       "      <td>ME</td>\n",
       "      <td>Maine</td>\n",
       "      <td>Single Adults</td>\n",
       "      <td>INDIA</td>\n",
       "      <td>Title 8</td>\n",
       "      <td>Inadmissibles</td>\n",
       "      <td>2</td>\n",
       "    </tr>\n",
       "    <tr>\n",
       "      <th>3</th>\n",
       "      <td>2020</td>\n",
       "      <td>FYTD</td>\n",
       "      <td>DEC</td>\n",
       "      <td>DEC 2020</td>\n",
       "      <td>Office of Field Operations</td>\n",
       "      <td>Northern Land Border</td>\n",
       "      <td>Boston Field Office</td>\n",
       "      <td>Boston</td>\n",
       "      <td>ME</td>\n",
       "      <td>Maine</td>\n",
       "      <td>Single Adults</td>\n",
       "      <td>OTHER</td>\n",
       "      <td>Title 8</td>\n",
       "      <td>Inadmissibles</td>\n",
       "      <td>57</td>\n",
       "    </tr>\n",
       "    <tr>\n",
       "      <th>4</th>\n",
       "      <td>2020</td>\n",
       "      <td>FYTD</td>\n",
       "      <td>DEC</td>\n",
       "      <td>DEC 2020</td>\n",
       "      <td>Office of Field Operations</td>\n",
       "      <td>Northern Land Border</td>\n",
       "      <td>Boston Field Office</td>\n",
       "      <td>Boston</td>\n",
       "      <td>ME</td>\n",
       "      <td>Maine</td>\n",
       "      <td>Single Adults</td>\n",
       "      <td>PHILIPPINES</td>\n",
       "      <td>Title 8</td>\n",
       "      <td>Inadmissibles</td>\n",
       "      <td>5</td>\n",
       "    </tr>\n",
       "  </tbody>\n",
       "</table>\n",
       "</div>"
      ],
      "text/plain": [
       "  Fiscal Year Month Grouping Month (abbv)      Date  \\\n",
       "0        2020           FYTD          DEC  DEC 2020   \n",
       "1        2020           FYTD          DEC  DEC 2020   \n",
       "2        2020           FYTD          DEC  DEC 2020   \n",
       "3        2020           FYTD          DEC  DEC 2020   \n",
       "4        2020           FYTD          DEC  DEC 2020   \n",
       "\n",
       "                    Component    Land Border Region Area of Responsibility  \\\n",
       "0  Office of Field Operations  Northern Land Border    Boston Field Office   \n",
       "1  Office of Field Operations  Northern Land Border    Boston Field Office   \n",
       "2  Office of Field Operations  Northern Land Border    Boston Field Office   \n",
       "3  Office of Field Operations  Northern Land Border    Boston Field Office   \n",
       "4  Office of Field Operations  Northern Land Border    Boston Field Office   \n",
       "\n",
       "  AOR (Abbv) State State_Name    Demographic  Citizenship Title of Authority  \\\n",
       "0     Boston    ME      Maine           FMUA        OTHER            Title 8   \n",
       "1     Boston    ME      Maine  Single Adults       CANADA            Title 8   \n",
       "2     Boston    ME      Maine  Single Adults        INDIA            Title 8   \n",
       "3     Boston    ME      Maine  Single Adults        OTHER            Title 8   \n",
       "4     Boston    ME      Maine  Single Adults  PHILIPPINES            Title 8   \n",
       "\n",
       "  Encounter Type  Encounter Count  \n",
       "0  Inadmissibles                5  \n",
       "1  Inadmissibles              722  \n",
       "2  Inadmissibles                2  \n",
       "3  Inadmissibles               57  \n",
       "4  Inadmissibles                5  "
      ]
     },
     "execution_count": 3,
     "metadata": {},
     "output_type": "execute_result"
    }
   ],
   "source": [
    "natl.head()"
   ]
  },
  {
   "cell_type": "code",
   "execution_count": 4,
   "id": "36c2fbfd-f8b3-4ee6-b0b7-b11c6c72b064",
   "metadata": {},
   "outputs": [
    {
     "data": {
      "text/html": [
       "<div>\n",
       "<style scoped>\n",
       "    .dataframe tbody tr th:only-of-type {\n",
       "        vertical-align: middle;\n",
       "    }\n",
       "\n",
       "    .dataframe tbody tr th {\n",
       "        vertical-align: top;\n",
       "    }\n",
       "\n",
       "    .dataframe thead th {\n",
       "        text-align: right;\n",
       "    }\n",
       "</style>\n",
       "<table border=\"1\" class=\"dataframe\">\n",
       "  <thead>\n",
       "    <tr style=\"text-align: right;\">\n",
       "      <th></th>\n",
       "      <th>Fiscal Year</th>\n",
       "      <th>Month Grouping</th>\n",
       "      <th>Month (abbv)</th>\n",
       "      <th>Date</th>\n",
       "      <th>Component</th>\n",
       "      <th>Land Border Region</th>\n",
       "      <th>Area of Responsibility</th>\n",
       "      <th>AOR (Abbv)</th>\n",
       "      <th>State</th>\n",
       "      <th>State_Name</th>\n",
       "      <th>Demographic</th>\n",
       "      <th>Citizenship</th>\n",
       "      <th>Title of Authority</th>\n",
       "      <th>Encounter Type</th>\n",
       "      <th>Encounter Count</th>\n",
       "    </tr>\n",
       "  </thead>\n",
       "  <tbody>\n",
       "    <tr>\n",
       "      <th>54937</th>\n",
       "      <td>2023 (FYTD)</td>\n",
       "      <td>FYTD</td>\n",
       "      <td>OCT</td>\n",
       "      <td>OCT 2023 (FYTD)</td>\n",
       "      <td>U.S. Border Patrol</td>\n",
       "      <td>Southwest Land Border</td>\n",
       "      <td>Yuma Sector</td>\n",
       "      <td>YUM</td>\n",
       "      <td>AZ</td>\n",
       "      <td>Arizona</td>\n",
       "      <td>UC / Single Minors</td>\n",
       "      <td>VENEZUELA</td>\n",
       "      <td>Title 8</td>\n",
       "      <td>Apprehensions</td>\n",
       "      <td>11</td>\n",
       "    </tr>\n",
       "    <tr>\n",
       "      <th>54938</th>\n",
       "      <td>2023 (FYTD)</td>\n",
       "      <td>FYTD</td>\n",
       "      <td>OCT</td>\n",
       "      <td>OCT 2023 (FYTD)</td>\n",
       "      <td>U.S. Border Patrol</td>\n",
       "      <td>Southwest Land Border</td>\n",
       "      <td>Yuma Sector</td>\n",
       "      <td>YUM</td>\n",
       "      <td>CA</td>\n",
       "      <td>California</td>\n",
       "      <td>Single Adults</td>\n",
       "      <td>GUATEMALA</td>\n",
       "      <td>Title 8</td>\n",
       "      <td>Apprehensions</td>\n",
       "      <td>9</td>\n",
       "    </tr>\n",
       "    <tr>\n",
       "      <th>54939</th>\n",
       "      <td>2023 (FYTD)</td>\n",
       "      <td>FYTD</td>\n",
       "      <td>OCT</td>\n",
       "      <td>OCT 2023 (FYTD)</td>\n",
       "      <td>U.S. Border Patrol</td>\n",
       "      <td>Southwest Land Border</td>\n",
       "      <td>Yuma Sector</td>\n",
       "      <td>YUM</td>\n",
       "      <td>CA</td>\n",
       "      <td>California</td>\n",
       "      <td>Single Adults</td>\n",
       "      <td>MEXICO</td>\n",
       "      <td>Title 8</td>\n",
       "      <td>Apprehensions</td>\n",
       "      <td>17</td>\n",
       "    </tr>\n",
       "    <tr>\n",
       "      <th>54940</th>\n",
       "      <td>2023 (FYTD)</td>\n",
       "      <td>FYTD</td>\n",
       "      <td>OCT</td>\n",
       "      <td>OCT 2023 (FYTD)</td>\n",
       "      <td>U.S. Border Patrol</td>\n",
       "      <td>Southwest Land Border</td>\n",
       "      <td>Yuma Sector</td>\n",
       "      <td>YUM</td>\n",
       "      <td>CA</td>\n",
       "      <td>California</td>\n",
       "      <td>UC / Single Minors</td>\n",
       "      <td>GUATEMALA</td>\n",
       "      <td>Title 8</td>\n",
       "      <td>Apprehensions</td>\n",
       "      <td>2</td>\n",
       "    </tr>\n",
       "    <tr>\n",
       "      <th>54941</th>\n",
       "      <td>2023 (FYTD)</td>\n",
       "      <td>FYTD</td>\n",
       "      <td>OCT</td>\n",
       "      <td>OCT 2023 (FYTD)</td>\n",
       "      <td>U.S. Border Patrol</td>\n",
       "      <td>Southwest Land Border</td>\n",
       "      <td>Yuma Sector</td>\n",
       "      <td>YUM</td>\n",
       "      <td>CA</td>\n",
       "      <td>California</td>\n",
       "      <td>UC / Single Minors</td>\n",
       "      <td>MEXICO</td>\n",
       "      <td>Title 8</td>\n",
       "      <td>Apprehensions</td>\n",
       "      <td>3</td>\n",
       "    </tr>\n",
       "  </tbody>\n",
       "</table>\n",
       "</div>"
      ],
      "text/plain": [
       "       Fiscal Year Month Grouping Month (abbv)             Date  \\\n",
       "54937  2023 (FYTD)           FYTD          OCT  OCT 2023 (FYTD)   \n",
       "54938  2023 (FYTD)           FYTD          OCT  OCT 2023 (FYTD)   \n",
       "54939  2023 (FYTD)           FYTD          OCT  OCT 2023 (FYTD)   \n",
       "54940  2023 (FYTD)           FYTD          OCT  OCT 2023 (FYTD)   \n",
       "54941  2023 (FYTD)           FYTD          OCT  OCT 2023 (FYTD)   \n",
       "\n",
       "                Component     Land Border Region Area of Responsibility  \\\n",
       "54937  U.S. Border Patrol  Southwest Land Border            Yuma Sector   \n",
       "54938  U.S. Border Patrol  Southwest Land Border            Yuma Sector   \n",
       "54939  U.S. Border Patrol  Southwest Land Border            Yuma Sector   \n",
       "54940  U.S. Border Patrol  Southwest Land Border            Yuma Sector   \n",
       "54941  U.S. Border Patrol  Southwest Land Border            Yuma Sector   \n",
       "\n",
       "      AOR (Abbv) State  State_Name         Demographic Citizenship  \\\n",
       "54937        YUM    AZ     Arizona  UC / Single Minors   VENEZUELA   \n",
       "54938        YUM    CA  California       Single Adults   GUATEMALA   \n",
       "54939        YUM    CA  California       Single Adults      MEXICO   \n",
       "54940        YUM    CA  California  UC / Single Minors   GUATEMALA   \n",
       "54941        YUM    CA  California  UC / Single Minors      MEXICO   \n",
       "\n",
       "      Title of Authority Encounter Type  Encounter Count  \n",
       "54937            Title 8  Apprehensions               11  \n",
       "54938            Title 8  Apprehensions                9  \n",
       "54939            Title 8  Apprehensions               17  \n",
       "54940            Title 8  Apprehensions                2  \n",
       "54941            Title 8  Apprehensions                3  "
      ]
     },
     "execution_count": 4,
     "metadata": {},
     "output_type": "execute_result"
    }
   ],
   "source": [
    "natl.tail()"
   ]
  },
  {
   "cell_type": "code",
   "execution_count": 5,
   "id": "2de6d148-9dce-4ec7-ba97-fbbef53f5a8e",
   "metadata": {},
   "outputs": [
    {
     "name": "stdout",
     "output_type": "stream",
     "text": [
      "<class 'pandas.core.frame.DataFrame'>\n",
      "RangeIndex: 54942 entries, 0 to 54941\n",
      "Data columns (total 15 columns):\n",
      " #   Column                  Non-Null Count  Dtype \n",
      "---  ------                  --------------  ----- \n",
      " 0   Fiscal Year             54942 non-null  object\n",
      " 1   Month Grouping          54942 non-null  object\n",
      " 2   Month (abbv)            54942 non-null  object\n",
      " 3   Date                    54942 non-null  object\n",
      " 4   Component               54942 non-null  object\n",
      " 5   Land Border Region      54942 non-null  object\n",
      " 6   Area of Responsibility  54942 non-null  object\n",
      " 7   AOR (Abbv)              54942 non-null  object\n",
      " 8   State                   54942 non-null  object\n",
      " 9   State_Name              51851 non-null  object\n",
      " 10  Demographic             54942 non-null  object\n",
      " 11  Citizenship             54942 non-null  object\n",
      " 12  Title of Authority      54942 non-null  object\n",
      " 13  Encounter Type          54942 non-null  object\n",
      " 14  Encounter Count         54942 non-null  int64 \n",
      "dtypes: int64(1), object(14)\n",
      "memory usage: 6.3+ MB\n"
     ]
    }
   ],
   "source": [
    "natl.info()"
   ]
  },
  {
   "cell_type": "markdown",
   "id": "75d2b77a-1c1b-4439-b00b-ed200e3fc19b",
   "metadata": {},
   "source": [
    " # Rename columns due to spacing"
   ]
  },
  {
   "cell_type": "code",
   "execution_count": 6,
   "id": "238e2b59-36c0-4f97-be76-b2147ebbf6b1",
   "metadata": {},
   "outputs": [],
   "source": [
    "natl = natl.rename(columns = {\"Fiscal Year\" : \"Fiscal_Year\", \"Month Grouping\" : \"Month_Grouping\", \"Land Border Region\":\"Land_Border_Region\", \"Area of Responsibility\":\"Area_of_Responsibility\", \"Title of Authority\":\"Title_of_Authority\",\"Encounter Type\":\"Encounter_Type\", \"Encounter Count\":\"Encounter_Count\"})"
   ]
  },
  {
   "cell_type": "code",
   "execution_count": 7,
   "id": "141d71e7-b736-47aa-95c0-35db6138775e",
   "metadata": {},
   "outputs": [
    {
     "data": {
      "text/plain": [
       "Index(['Fiscal_Year', 'Month_Grouping', 'Month (abbv)', 'Date', 'Component',\n",
       "       'Land_Border_Region', 'Area_of_Responsibility', 'AOR (Abbv)', 'State',\n",
       "       'State_Name', 'Demographic', 'Citizenship', 'Title_of_Authority',\n",
       "       'Encounter_Type', 'Encounter_Count'],\n",
       "      dtype='object')"
      ]
     },
     "execution_count": 7,
     "metadata": {},
     "output_type": "execute_result"
    }
   ],
   "source": [
    "natl.columns"
   ]
  },
  {
   "cell_type": "code",
   "execution_count": 8,
   "id": "897fb08c-f00a-4706-ac39-5d6e8105e094",
   "metadata": {},
   "outputs": [
    {
     "data": {
      "text/plain": [
       "array(['Northern Land Border', 'Other', 'Southwest Land Border'],\n",
       "      dtype=object)"
      ]
     },
     "execution_count": 8,
     "metadata": {},
     "output_type": "execute_result"
    }
   ],
   "source": [
    "natl.Land_Border_Region.unique()"
   ]
  },
  {
   "cell_type": "code",
   "execution_count": 9,
   "id": "aa69c257-aca4-4402-a2cb-362bcdec8811",
   "metadata": {},
   "outputs": [],
   "source": [
    "natl = natl[natl['Land_Border_Region'].isin(['Southwest Land Border'])]"
   ]
  },
  {
   "cell_type": "code",
   "execution_count": 10,
   "id": "62b8d1f1-5aa5-4d5b-bc94-b68a1023f305",
   "metadata": {},
   "outputs": [
    {
     "name": "stdout",
     "output_type": "stream",
     "text": [
      "<class 'pandas.core.frame.DataFrame'>\n",
      "Int64Index: 25377 entries, 29565 to 54941\n",
      "Data columns (total 15 columns):\n",
      " #   Column                  Non-Null Count  Dtype \n",
      "---  ------                  --------------  ----- \n",
      " 0   Fiscal_Year             25377 non-null  object\n",
      " 1   Month_Grouping          25377 non-null  object\n",
      " 2   Month (abbv)            25377 non-null  object\n",
      " 3   Date                    25377 non-null  object\n",
      " 4   Component               25377 non-null  object\n",
      " 5   Land_Border_Region      25377 non-null  object\n",
      " 6   Area_of_Responsibility  25377 non-null  object\n",
      " 7   AOR (Abbv)              25377 non-null  object\n",
      " 8   State                   25377 non-null  object\n",
      " 9   State_Name              25377 non-null  object\n",
      " 10  Demographic             25377 non-null  object\n",
      " 11  Citizenship             25377 non-null  object\n",
      " 12  Title_of_Authority      25377 non-null  object\n",
      " 13  Encounter_Type          25377 non-null  object\n",
      " 14  Encounter_Count         25377 non-null  int64 \n",
      "dtypes: int64(1), object(14)\n",
      "memory usage: 3.1+ MB\n"
     ]
    }
   ],
   "source": [
    "natl.info()"
   ]
  },
  {
   "cell_type": "code",
   "execution_count": 11,
   "id": "81639f9c-7d09-43cf-b91a-9627eeb5c081",
   "metadata": {},
   "outputs": [
    {
     "data": {
      "text/plain": [
       "array(['Office of Field Operations', 'U.S. Border Patrol'], dtype=object)"
      ]
     },
     "execution_count": 11,
     "metadata": {},
     "output_type": "execute_result"
    }
   ],
   "source": [
    "natl.Component.unique()"
   ]
  },
  {
   "cell_type": "code",
   "execution_count": 12,
   "id": "5cb4c8b1-dc11-4531-9924-c09f6a55cd8f",
   "metadata": {},
   "outputs": [],
   "source": [
    "natl=natl[natl['Component'].isin(['U.S. Border Patrol'])]"
   ]
  },
  {
   "cell_type": "code",
   "execution_count": 13,
   "id": "dff85017-48b7-4cca-93f9-8980054c024f",
   "metadata": {},
   "outputs": [
    {
     "data": {
      "text/plain": [
       "array(['U.S. Border Patrol'], dtype=object)"
      ]
     },
     "execution_count": 13,
     "metadata": {},
     "output_type": "execute_result"
    }
   ],
   "source": [
    "natl.Component.unique()"
   ]
  },
  {
   "cell_type": "code",
   "execution_count": 14,
   "id": "63dd51e5-6a53-49d5-a1aa-1b2c4b540c7c",
   "metadata": {},
   "outputs": [
    {
     "data": {
      "text/plain": [
       "array(['Southwest Land Border'], dtype=object)"
      ]
     },
     "execution_count": 14,
     "metadata": {},
     "output_type": "execute_result"
    }
   ],
   "source": [
    "natl.Land_Border_Region.unique()"
   ]
  },
  {
   "cell_type": "code",
   "execution_count": 15,
   "id": "c389ea8e-f813-4f63-81f1-3c79eb50535d",
   "metadata": {},
   "outputs": [
    {
     "name": "stdout",
     "output_type": "stream",
     "text": [
      "<class 'pandas.core.frame.DataFrame'>\n",
      "Int64Index: 18889 entries, 29694 to 54941\n",
      "Data columns (total 15 columns):\n",
      " #   Column                  Non-Null Count  Dtype \n",
      "---  ------                  --------------  ----- \n",
      " 0   Fiscal_Year             18889 non-null  object\n",
      " 1   Month_Grouping          18889 non-null  object\n",
      " 2   Month (abbv)            18889 non-null  object\n",
      " 3   Date                    18889 non-null  object\n",
      " 4   Component               18889 non-null  object\n",
      " 5   Land_Border_Region      18889 non-null  object\n",
      " 6   Area_of_Responsibility  18889 non-null  object\n",
      " 7   AOR (Abbv)              18889 non-null  object\n",
      " 8   State                   18889 non-null  object\n",
      " 9   State_Name              18889 non-null  object\n",
      " 10  Demographic             18889 non-null  object\n",
      " 11  Citizenship             18889 non-null  object\n",
      " 12  Title_of_Authority      18889 non-null  object\n",
      " 13  Encounter_Type          18889 non-null  object\n",
      " 14  Encounter_Count         18889 non-null  int64 \n",
      "dtypes: int64(1), object(14)\n",
      "memory usage: 2.3+ MB\n"
     ]
    }
   ],
   "source": [
    "natl.info()"
   ]
  },
  {
   "cell_type": "code",
   "execution_count": null,
   "id": "b5c414af-d544-4080-8905-2b2528596c1d",
   "metadata": {},
   "outputs": [],
   "source": []
  },
  {
   "cell_type": "code",
   "execution_count": 16,
   "id": "6e3a7402-e6ca-45a2-b484-b2702c1629be",
   "metadata": {},
   "outputs": [
    {
     "data": {
      "text/html": [
       "<div>\n",
       "<style scoped>\n",
       "    .dataframe tbody tr th:only-of-type {\n",
       "        vertical-align: middle;\n",
       "    }\n",
       "\n",
       "    .dataframe tbody tr th {\n",
       "        vertical-align: top;\n",
       "    }\n",
       "\n",
       "    .dataframe thead th {\n",
       "        text-align: right;\n",
       "    }\n",
       "</style>\n",
       "<table border=\"1\" class=\"dataframe\">\n",
       "  <thead>\n",
       "    <tr style=\"text-align: right;\">\n",
       "      <th></th>\n",
       "      <th>Encounter_Count</th>\n",
       "    </tr>\n",
       "    <tr>\n",
       "      <th>Fiscal_Year</th>\n",
       "      <th></th>\n",
       "    </tr>\n",
       "  </thead>\n",
       "  <tbody>\n",
       "    <tr>\n",
       "      <th>2020</th>\n",
       "      <td>400651</td>\n",
       "    </tr>\n",
       "    <tr>\n",
       "      <th>2021</th>\n",
       "      <td>1659206</td>\n",
       "    </tr>\n",
       "    <tr>\n",
       "      <th>2022</th>\n",
       "      <td>2206436</td>\n",
       "    </tr>\n",
       "    <tr>\n",
       "      <th>2023 (FYTD)</th>\n",
       "      <td>1055320</td>\n",
       "    </tr>\n",
       "  </tbody>\n",
       "</table>\n",
       "</div>"
      ],
      "text/plain": [
       "             Encounter_Count\n",
       "Fiscal_Year                 \n",
       "2020                  400651\n",
       "2021                 1659206\n",
       "2022                 2206436\n",
       "2023 (FYTD)          1055320"
      ]
     },
     "execution_count": 16,
     "metadata": {},
     "output_type": "execute_result"
    }
   ],
   "source": [
    "pivot_i = pd.pivot_table(natl, index='Fiscal_Year', values='Encounter_Count', aggfunc=sum) #, columns=['Border'])\n",
    "pivot_i\n"
   ]
  },
  {
   "cell_type": "code",
   "execution_count": 17,
   "id": "e5012d42-dc73-4c6a-8445-1898e87656b6",
   "metadata": {},
   "outputs": [
    {
     "data": {
      "image/png": "[encoded data removed]",
      "text/plain": [
       "<Figure size 640x480 with 1 Axes>"
      ]
     },
     "metadata": {},
     "output_type": "display_data"
    }
   ],
   "source": [
    "pivot_i.plot( kind = 'line')\n",
    "plt.ylabel('Number Encountered')\n",
    "plt.xlabel('Fiscal Year')\n",
    "plt.title('Yearly Southwest Land Border Encounters')\n",
    "plt.yticks(ticks=plt.yticks()[0], labels=plt.yticks()[0])\n",
    "plt.legend('')\n",
    "plt.savefig(\"YearlySouthBorder.png\",bbox_inches='tight')\n",
    "plt.show()"
   ]
  },
  {
   "cell_type": "code",
   "execution_count": null,
   "id": "7373f5eb-25ea-478d-a7d4-8797b35d54a9",
   "metadata": {},
   "outputs": [],
   "source": []
  },
  {
   "cell_type": "code",
   "execution_count": 18,
   "id": "07989938-92a7-4242-b417-9e5d198ca083",
   "metadata": {},
   "outputs": [
    {
     "data": {
      "text/html": [
       "<div>\n",
       "<style scoped>\n",
       "    .dataframe tbody tr th:only-of-type {\n",
       "        vertical-align: middle;\n",
       "    }\n",
       "\n",
       "    .dataframe tbody tr th {\n",
       "        vertical-align: top;\n",
       "    }\n",
       "\n",
       "    .dataframe thead th {\n",
       "        text-align: right;\n",
       "    }\n",
       "</style>\n",
       "<table border=\"1\" class=\"dataframe\">\n",
       "  <thead>\n",
       "    <tr style=\"text-align: right;\">\n",
       "      <th></th>\n",
       "      <th>Encounter_Count</th>\n",
       "    </tr>\n",
       "    <tr>\n",
       "      <th>Area_of_Responsibility</th>\n",
       "      <th></th>\n",
       "    </tr>\n",
       "  </thead>\n",
       "  <tbody>\n",
       "    <tr>\n",
       "      <th>Big Bend Sector</th>\n",
       "      <td>85112</td>\n",
       "    </tr>\n",
       "    <tr>\n",
       "      <th>Del Rio Sector</th>\n",
       "      <td>998416</td>\n",
       "    </tr>\n",
       "    <tr>\n",
       "      <th>El Centro Sector</th>\n",
       "      <td>195706</td>\n",
       "    </tr>\n",
       "    <tr>\n",
       "      <th>El Paso Sector</th>\n",
       "      <td>821195</td>\n",
       "    </tr>\n",
       "    <tr>\n",
       "      <th>Laredo Sector</th>\n",
       "      <td>296650</td>\n",
       "    </tr>\n",
       "    <tr>\n",
       "      <th>Rio Grande Valley Sector</th>\n",
       "      <td>1239575</td>\n",
       "    </tr>\n",
       "    <tr>\n",
       "      <th>San Diego Sector</th>\n",
       "      <td>481305</td>\n",
       "    </tr>\n",
       "    <tr>\n",
       "      <th>Tucson Sector</th>\n",
       "      <td>655593</td>\n",
       "    </tr>\n",
       "    <tr>\n",
       "      <th>Yuma Sector</th>\n",
       "      <td>548061</td>\n",
       "    </tr>\n",
       "  </tbody>\n",
       "</table>\n",
       "</div>"
      ],
      "text/plain": [
       "                          Encounter_Count\n",
       "Area_of_Responsibility                   \n",
       "Big Bend Sector                     85112\n",
       "Del Rio Sector                     998416\n",
       "El Centro Sector                   195706\n",
       "El Paso Sector                     821195\n",
       "Laredo Sector                      296650\n",
       "Rio Grande Valley Sector          1239575\n",
       "San Diego Sector                   481305\n",
       "Tucson Sector                      655593\n",
       "Yuma Sector                        548061"
      ]
     },
     "execution_count": 18,
     "metadata": {},
     "output_type": "execute_result"
    }
   ],
   "source": [
    "pivot_k = pd.pivot_table(natl, index='Area_of_Responsibility', values='Encounter_Count', aggfunc=sum) #, columns=['Border'])\n",
    "pivot_k\n"
   ]
  },
  {
   "cell_type": "code",
   "execution_count": 19,
   "id": "da087d15-2978-42e1-a9b2-a3916192e9c4",
   "metadata": {},
   "outputs": [
    {
     "data": {
      "text/html": [
       "<div>\n",
       "<style scoped>\n",
       "    .dataframe tbody tr th:only-of-type {\n",
       "        vertical-align: middle;\n",
       "    }\n",
       "\n",
       "    .dataframe tbody tr th {\n",
       "        vertical-align: top;\n",
       "    }\n",
       "\n",
       "    .dataframe thead th {\n",
       "        text-align: right;\n",
       "    }\n",
       "</style>\n",
       "<table border=\"1\" class=\"dataframe\">\n",
       "  <thead>\n",
       "    <tr style=\"text-align: right;\">\n",
       "      <th></th>\n",
       "      <th>Encounter_Count</th>\n",
       "    </tr>\n",
       "    <tr>\n",
       "      <th>Area_of_Responsibility</th>\n",
       "      <th></th>\n",
       "    </tr>\n",
       "  </thead>\n",
       "  <tbody>\n",
       "    <tr>\n",
       "      <th>Rio Grande Valley Sector</th>\n",
       "      <td>1239575</td>\n",
       "    </tr>\n",
       "    <tr>\n",
       "      <th>Del Rio Sector</th>\n",
       "      <td>998416</td>\n",
       "    </tr>\n",
       "    <tr>\n",
       "      <th>El Paso Sector</th>\n",
       "      <td>821195</td>\n",
       "    </tr>\n",
       "    <tr>\n",
       "      <th>Tucson Sector</th>\n",
       "      <td>655593</td>\n",
       "    </tr>\n",
       "    <tr>\n",
       "      <th>Yuma Sector</th>\n",
       "      <td>548061</td>\n",
       "    </tr>\n",
       "    <tr>\n",
       "      <th>San Diego Sector</th>\n",
       "      <td>481305</td>\n",
       "    </tr>\n",
       "    <tr>\n",
       "      <th>Laredo Sector</th>\n",
       "      <td>296650</td>\n",
       "    </tr>\n",
       "    <tr>\n",
       "      <th>El Centro Sector</th>\n",
       "      <td>195706</td>\n",
       "    </tr>\n",
       "    <tr>\n",
       "      <th>Big Bend Sector</th>\n",
       "      <td>85112</td>\n",
       "    </tr>\n",
       "  </tbody>\n",
       "</table>\n",
       "</div>"
      ],
      "text/plain": [
       "                          Encounter_Count\n",
       "Area_of_Responsibility                   \n",
       "Rio Grande Valley Sector          1239575\n",
       "Del Rio Sector                     998416\n",
       "El Paso Sector                     821195\n",
       "Tucson Sector                      655593\n",
       "Yuma Sector                        548061\n",
       "San Diego Sector                   481305\n",
       "Laredo Sector                      296650\n",
       "El Centro Sector                   195706\n",
       "Big Bend Sector                     85112"
      ]
     },
     "execution_count": 19,
     "metadata": {},
     "output_type": "execute_result"
    }
   ],
   "source": [
    "sorted_k = pivot_k.sort_values(by='Encounter_Count', ascending=False)\n",
    "sorted_k"
   ]
  },
  {
   "cell_type": "code",
   "execution_count": 20,
   "id": "2297ff86-8934-4077-a1f1-31317187e9ec",
   "metadata": {},
   "outputs": [
    {
     "data": {
      "image/png": "[encoded data removed]",
      "text/plain": [
       "<Figure size 640x480 with 1 Axes>"
      ]
     },
     "metadata": {},
     "output_type": "display_data"
    }
   ],
   "source": [
    "            #fix y axis values\n",
    "\n",
    "sorted_k.plot( kind = 'bar')\n",
    "plt.ylabel('Number of Encounters')\n",
    "plt.xlabel('Area')\n",
    "plt.title('Encounters 2020-FYTD 2023')\n",
    "plt.yticks(ticks=plt.yticks()[0], labels=plt.yticks()[0])\n",
    "plt.legend('')\n",
    "plt.savefig(\"AreaSouthBorder.png\",bbox_inches='tight')\n",
    "plt.show()"
   ]
  },
  {
   "cell_type": "code",
   "execution_count": 21,
   "id": "a9482e7a-92d6-452d-a222-a6b052a15025",
   "metadata": {},
   "outputs": [
    {
     "data": {
      "text/html": [
       "<div>\n",
       "<style scoped>\n",
       "    .dataframe tbody tr th:only-of-type {\n",
       "        vertical-align: middle;\n",
       "    }\n",
       "\n",
       "    .dataframe tbody tr th {\n",
       "        vertical-align: top;\n",
       "    }\n",
       "\n",
       "    .dataframe thead th {\n",
       "        text-align: right;\n",
       "    }\n",
       "</style>\n",
       "<table border=\"1\" class=\"dataframe\">\n",
       "  <thead>\n",
       "    <tr style=\"text-align: right;\">\n",
       "      <th></th>\n",
       "      <th></th>\n",
       "      <th></th>\n",
       "      <th>Encounter_Count</th>\n",
       "    </tr>\n",
       "    <tr>\n",
       "      <th>Fiscal_Year</th>\n",
       "      <th>Title_of_Authority</th>\n",
       "      <th>Encounter_Type</th>\n",
       "      <th></th>\n",
       "    </tr>\n",
       "  </thead>\n",
       "  <tbody>\n",
       "    <tr>\n",
       "      <th rowspan=\"2\" valign=\"top\">2020</th>\n",
       "      <th>Title 42</th>\n",
       "      <th>Expulsions</th>\n",
       "      <td>197043</td>\n",
       "    </tr>\n",
       "    <tr>\n",
       "      <th>Title 8</th>\n",
       "      <th>Apprehensions</th>\n",
       "      <td>203608</td>\n",
       "    </tr>\n",
       "    <tr>\n",
       "      <th rowspan=\"2\" valign=\"top\">2021</th>\n",
       "      <th>Title 42</th>\n",
       "      <th>Expulsions</th>\n",
       "      <td>1040220</td>\n",
       "    </tr>\n",
       "    <tr>\n",
       "      <th>Title 8</th>\n",
       "      <th>Apprehensions</th>\n",
       "      <td>618986</td>\n",
       "    </tr>\n",
       "    <tr>\n",
       "      <th rowspan=\"2\" valign=\"top\">2022</th>\n",
       "      <th>Title 42</th>\n",
       "      <th>Expulsions</th>\n",
       "      <td>1054084</td>\n",
       "    </tr>\n",
       "    <tr>\n",
       "      <th>Title 8</th>\n",
       "      <th>Apprehensions</th>\n",
       "      <td>1152352</td>\n",
       "    </tr>\n",
       "    <tr>\n",
       "      <th rowspan=\"2\" valign=\"top\">2023 (FYTD)</th>\n",
       "      <th>Title 42</th>\n",
       "      <th>Expulsions</th>\n",
       "      <td>419147</td>\n",
       "    </tr>\n",
       "    <tr>\n",
       "      <th>Title 8</th>\n",
       "      <th>Apprehensions</th>\n",
       "      <td>636173</td>\n",
       "    </tr>\n",
       "  </tbody>\n",
       "</table>\n",
       "</div>"
      ],
      "text/plain": [
       "                                               Encounter_Count\n",
       "Fiscal_Year Title_of_Authority Encounter_Type                 \n",
       "2020        Title 42           Expulsions               197043\n",
       "            Title 8            Apprehensions            203608\n",
       "2021        Title 42           Expulsions              1040220\n",
       "            Title 8            Apprehensions            618986\n",
       "2022        Title 42           Expulsions              1054084\n",
       "            Title 8            Apprehensions           1152352\n",
       "2023 (FYTD) Title 42           Expulsions               419147\n",
       "            Title 8            Apprehensions            636173"
      ]
     },
     "execution_count": 21,
     "metadata": {},
     "output_type": "execute_result"
    }
   ],
   "source": [
    "pivot_l = pd.pivot_table(natl, index=['Fiscal_Year','Title_of_Authority', 'Encounter_Type'], values='Encounter_Count', aggfunc=sum) #, columns=['Border'])\n",
    "pivot_l\n"
   ]
  },
  {
   "cell_type": "code",
   "execution_count": 22,
   "id": "1fff0ecf-da13-4de8-8c93-0837f963c5c4",
   "metadata": {},
   "outputs": [
    {
     "data": {
      "image/png": "[encoded data removed]",
      "text/plain": [
       "<Figure size 640x480 with 1 Axes>"
      ]
     },
     "metadata": {},
     "output_type": "display_data"
    }
   ],
   "source": [
    "pivot_l.plot( kind = 'bar')\n",
    "plt.ylabel('Number of Encounters')\n",
    "plt.xlabel('Encounter Type')\n",
    "plt.title('Encounters 2020-FYTD 2023')\n",
    "plt.legend('')\n",
    "plt.yticks(ticks=plt.yticks()[0], labels=plt.yticks()[0])\n",
    "#yaxis.set_major_formatter(y_format) \n",
    "plt.savefig(\"EncounterTypes.png\",bbox_inches='tight')\n",
    "plt.show()"
   ]
  },
  {
   "cell_type": "code",
   "execution_count": null,
   "id": "6108dbdc-ead8-40fa-999c-b6776023a7e5",
   "metadata": {},
   "outputs": [],
   "source": []
  },
  {
   "cell_type": "code",
   "execution_count": null,
   "id": "4d8f3f81-3b23-4079-9659-3bb15235db2d",
   "metadata": {},
   "outputs": [],
   "source": []
  }
 ],
 "metadata": {
  "kernelspec": {
   "display_name": "Python 3 (ipykernel)",
   "language": "python",
   "name": "python3"
  },
  "language_info": {
   "codemirror_mode": {
    "name": "ipython",
    "version": 3
   },
   "file_extension": ".py",
   "mimetype": "text/x-python",
   "name": "python",
   "nbconvert_exporter": "python",
   "pygments_lexer": "ipython3",
   "version": "3.9.13"
  }
 },
 "nbformat": 4,
 "nbformat_minor": 5
}
